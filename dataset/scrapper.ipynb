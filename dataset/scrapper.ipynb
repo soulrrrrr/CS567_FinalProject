{
 "cells": [
  {
   "cell_type": "code",
   "execution_count": 4,
   "metadata": {},
   "outputs": [
    {
     "name": "stdout",
     "output_type": "stream",
     "text": [
      "Logged in as: None\n"
     ]
    }
   ],
   "source": [
    "import pandas as pd\n",
    "import praw\n",
    "from datetime import datetime\n",
    "from time import sleep\n",
    "from dotenv import load_dotenv\n",
    "import os\n",
    "\n",
    "load_dotenv()\n",
    "\n",
    "# Authentication details from Reddit Developer Console\n",
    "REDDIT_CLIENT_ID = os.getenv(\"REDDIT_CLIENT_ID\")\n",
    "REDDIT_CLIENT_SECRET = os.getenv(\"REDDIT_CLIENT_SECRET\")\n",
    "REDDIT_USER_AGENT = os.getenv(\"REDDIT_USER_AGENT\")\n",
    "\n",
    "# Initialize PRAW Reddit instance\n",
    "reddit = praw.Reddit(\n",
    "    client_id=REDDIT_CLIENT_ID,\n",
    "    client_secret=REDDIT_CLIENT_SECRET,\n",
    "    user_agent=REDDIT_USER_AGENT\n",
    ")\n",
    "\n",
    "print(f\"Logged in as: {reddit.user.me()}\")  # Verify connection: output should be \"None\" for read-only access"
   ]
  },
  {
   "cell_type": "code",
   "execution_count": 5,
   "metadata": {},
   "outputs": [
    {
     "name": "stdout",
     "output_type": "stream",
     "text": [
      "2024-12-03T15:32:44\n"
     ]
    }
   ],
   "source": [
    "# Testing Purpose\n",
    "for post in reddit.subreddit(\"UIUC\").new(limit=1):\n",
    "    # post.comments.replace_more(limit=0)\n",
    "    # [print(comment.body) for comment in post.comments.list()[:10]]\n",
    "    # print(post.comments.list().body)\n",
    "    print(datetime.fromtimestamp(post.created_utc).isoformat())"
   ]
  },
  {
   "cell_type": "code",
   "execution_count": 10,
   "metadata": {},
   "outputs": [
    {
     "name": "stdout",
     "output_type": "stream",
     "text": [
      "posts saved to uiuc_subreddit_posts.csv\n"
     ]
    }
   ],
   "source": [
    "subreddit_name = \"UIUC\"\n",
    "subreddit = reddit.subreddit(subreddit_name)\n",
    "\n",
    "limit = 100  # Number of posts to scrape\n",
    "posts = []\n",
    "\n",
    "for post in subreddit.new(limit=limit):  # Change 'hot' to 'new', 'top', etc., as needed\n",
    "    post.comments.replace_more(limit=0)\n",
    "\n",
    "    posts.append({\n",
    "        \"title\": post.title,\n",
    "        \"author\": post.author.name if post.author else \"deleted\",\n",
    "        \"upvote\": post.score,\n",
    "        \"body\": post.selftext if post.selftext else \"\",\n",
    "        \"comments\": [\n",
    "            {\n",
    "                \"author\": comment.author.name if comment.author else \"deleted\",\n",
    "                \"body\": comment.body if comment.body else \"\",\n",
    "                \"created_at\": datetime.fromtimestamp(comment.created_utc).isoformat()\n",
    "            } for comment in post.comments.list()],\n",
    "        \"id\": post.name,\n",
    "        \"url\": post.url,\n",
    "        \"permalink\": post.permalink,\n",
    "        \"created_at\": datetime.fromtimestamp(post.created_utc).isoformat(),\n",
    "    })\n",
    "    sleep(1)\n",
    "\n",
    "df = pd.DataFrame(posts)\n",
    "df.to_csv(\"uiuc_subreddit_posts.csv\", index=False)\n",
    "print(\"posts saved to uiuc_subreddit_posts.csv\")"
   ]
  },
  {
   "cell_type": "code",
   "execution_count": 54,
   "metadata": {},
   "outputs": [
    {
     "data": {
      "text/plain": [
       "(100, 9)"
      ]
     },
     "execution_count": 54,
     "metadata": {},
     "output_type": "execute_result"
    }
   ],
   "source": [
    "df = pd.read_csv(\"uiuc_subreddit_posts.csv\")\n",
    "pd.set_option('display.max_colwidth', None)\n",
    "df.shape"
   ]
  },
  {
   "cell_type": "code",
   "execution_count": 55,
   "metadata": {},
   "outputs": [
    {
     "data": {
      "text/html": [
       "<div>\n",
       "<style scoped>\n",
       "    .dataframe tbody tr th:only-of-type {\n",
       "        vertical-align: middle;\n",
       "    }\n",
       "\n",
       "    .dataframe tbody tr th {\n",
       "        vertical-align: top;\n",
       "    }\n",
       "\n",
       "    .dataframe thead th {\n",
       "        text-align: right;\n",
       "    }\n",
       "</style>\n",
       "<table border=\"1\" class=\"dataframe\">\n",
       "  <thead>\n",
       "    <tr style=\"text-align: right;\">\n",
       "      <th></th>\n",
       "      <th>title</th>\n",
       "      <th>author</th>\n",
       "      <th>upvote</th>\n",
       "      <th>body</th>\n",
       "      <th>comments</th>\n",
       "      <th>id</th>\n",
       "      <th>url</th>\n",
       "      <th>permalink</th>\n",
       "      <th>created_at</th>\n",
       "    </tr>\n",
       "  </thead>\n",
       "  <tbody>\n",
       "    <tr>\n",
       "      <th>0</th>\n",
       "      <td>What’s the workload in PHIL 104 - ACP like?</td>\n",
       "      <td>Celestial1007</td>\n",
       "      <td>0</td>\n",
       "      <td>Title. Thanks!</td>\n",
       "      <td>[]</td>\n",
       "      <td>t3_1gudjjx</td>\n",
       "      <td>https://www.reddit.com/r/UIUC/comments/1gudjjx/whats_the_workload_in_phil_104_acp_like/</td>\n",
       "      <td>/r/UIUC/comments/1gudjjx/whats_the_workload_in_phil_104_acp_like/</td>\n",
       "      <td>2024-11-18T13:42:54</td>\n",
       "    </tr>\n",
       "    <tr>\n",
       "      <th>1</th>\n",
       "      <td>Physics 211 Scheduling Question</td>\n",
       "      <td>FelixTheNoob27</td>\n",
       "      <td>0</td>\n",
       "      <td>I’m making my schedule and it’s a bit of a struggle with availability so I might end up with a discussion/lab before a Tuesday lecture but is this still ok because I feel I’m going into a discussion before lecture and I might not be up to date. How does this work?\\nThanks</td>\n",
       "      <td>[]</td>\n",
       "      <td>t3_1gud92r</td>\n",
       "      <td>https://www.reddit.com/r/UIUC/comments/1gud92r/physics_211_scheduling_question/</td>\n",
       "      <td>/r/UIUC/comments/1gud92r/physics_211_scheduling_question/</td>\n",
       "      <td>2024-11-18T13:30:43</td>\n",
       "    </tr>\n",
       "    <tr>\n",
       "      <th>2</th>\n",
       "      <td>Subleasing Spring Semester</td>\n",
       "      <td>FaithlessnessDear73</td>\n",
       "      <td>2</td>\n",
       "      <td>Hi there! I am subleasing my room at 211 E John St in Champaign for the Spring semester. Please let me know if interested\\n\\nDetails: \\n- 4 bed / 2 bath\\n- $622 rent + utilities\\n- Next to Green St\\n- 10 min walk from Quad\\n\\nYou’ll be living with 3 girls but I promise they’re awesome (open to any gender)</td>\n",
       "      <td>[]</td>\n",
       "      <td>t3_1gud6qv</td>\n",
       "      <td>https://www.reddit.com/gallery/1gud6qv</td>\n",
       "      <td>/r/UIUC/comments/1gud6qv/subleasing_spring_semester/</td>\n",
       "      <td>2024-11-18T13:28:03</td>\n",
       "    </tr>\n",
       "    <tr>\n",
       "      <th>3</th>\n",
       "      <td>Illinois included in Nine Colleges with Best Financial Planning Programs!!!</td>\n",
       "      <td>proflem</td>\n",
       "      <td>1</td>\n",
       "      <td>NaN</td>\n",
       "      <td>[{'author': 'proflem', 'body': 'Our students and alumni earned this - #7 out of 179 programs nationwide feels amazing. This is our first time making this list of top programs.   \\n  \\nYou can learn more about our program at: [https://publish.illinois.edu/financial-planning/](https://publish.illinois.edu/financial-planning/)', 'created_at': '2024-11-18T12:55:33'}]</td>\n",
       "      <td>t3_1gucbbz</td>\n",
       "      <td>https://www.wealthmanagement.com/careers/nine-colleges-best-financial-planning-programs</td>\n",
       "      <td>/r/UIUC/comments/1gucbbz/illinois_included_in_nine_colleges_with_best/</td>\n",
       "      <td>2024-11-18T12:53:11</td>\n",
       "    </tr>\n",
       "    <tr>\n",
       "      <th>4</th>\n",
       "      <td>Color appointments available this week :)</td>\n",
       "      <td>PinkLemonadeHair</td>\n",
       "      <td>0</td>\n",
       "      <td>Book here: https://linktr.ee/pink.lemonade.hair or text/call 872-269-4472\\n</td>\n",
       "      <td>[]</td>\n",
       "      <td>t3_1gubzq8</td>\n",
       "      <td>https://i.redd.it/hlde2o73gp1e1.jpeg</td>\n",
       "      <td>/r/UIUC/comments/1gubzq8/color_appointments_available_this_week/</td>\n",
       "      <td>2024-11-18T12:40:22</td>\n",
       "    </tr>\n",
       "  </tbody>\n",
       "</table>\n",
       "</div>"
      ],
      "text/plain": [
       "                                                                         title  \\\n",
       "0                                  What’s the workload in PHIL 104 - ACP like?   \n",
       "1                                              Physics 211 Scheduling Question   \n",
       "2                                                   Subleasing Spring Semester   \n",
       "3  Illinois included in Nine Colleges with Best Financial Planning Programs!!!   \n",
       "4                                    Color appointments available this week :)   \n",
       "\n",
       "                author  upvote  \\\n",
       "0        Celestial1007       0   \n",
       "1       FelixTheNoob27       0   \n",
       "2  FaithlessnessDear73       2   \n",
       "3              proflem       1   \n",
       "4     PinkLemonadeHair       0   \n",
       "\n",
       "                                                                                                                                                                                                                                                                                                                  body  \\\n",
       "0                                                                                                                                                                                                                                                                                                       Title. Thanks!   \n",
       "1                                     I’m making my schedule and it’s a bit of a struggle with availability so I might end up with a discussion/lab before a Tuesday lecture but is this still ok because I feel I’m going into a discussion before lecture and I might not be up to date. How does this work?\\nThanks   \n",
       "2  Hi there! I am subleasing my room at 211 E John St in Champaign for the Spring semester. Please let me know if interested\\n\\nDetails: \\n- 4 bed / 2 bath\\n- $622 rent + utilities\\n- Next to Green St\\n- 10 min walk from Quad\\n\\nYou’ll be living with 3 girls but I promise they’re awesome (open to any gender)    \n",
       "3                                                                                                                                                                                                                                                                                                                  NaN   \n",
       "4                                                                                                                                                                                                                                          Book here: https://linktr.ee/pink.lemonade.hair or text/call 872-269-4472\\n   \n",
       "\n",
       "                                                                                                                                                                                                                                                                                                                                                                        comments  \\\n",
       "0                                                                                                                                                                                                                                                                                                                                                                             []   \n",
       "1                                                                                                                                                                                                                                                                                                                                                                             []   \n",
       "2                                                                                                                                                                                                                                                                                                                                                                             []   \n",
       "3  [{'author': 'proflem', 'body': 'Our students and alumni earned this - #7 out of 179 programs nationwide feels amazing. This is our first time making this list of top programs.   \\n  \\nYou can learn more about our program at: [https://publish.illinois.edu/financial-planning/](https://publish.illinois.edu/financial-planning/)', 'created_at': '2024-11-18T12:55:33'}]   \n",
       "4                                                                                                                                                                                                                                                                                                                                                                             []   \n",
       "\n",
       "           id  \\\n",
       "0  t3_1gudjjx   \n",
       "1  t3_1gud92r   \n",
       "2  t3_1gud6qv   \n",
       "3  t3_1gucbbz   \n",
       "4  t3_1gubzq8   \n",
       "\n",
       "                                                                                       url  \\\n",
       "0  https://www.reddit.com/r/UIUC/comments/1gudjjx/whats_the_workload_in_phil_104_acp_like/   \n",
       "1          https://www.reddit.com/r/UIUC/comments/1gud92r/physics_211_scheduling_question/   \n",
       "2                                                   https://www.reddit.com/gallery/1gud6qv   \n",
       "3  https://www.wealthmanagement.com/careers/nine-colleges-best-financial-planning-programs   \n",
       "4                                                     https://i.redd.it/hlde2o73gp1e1.jpeg   \n",
       "\n",
       "                                                                permalink  \\\n",
       "0       /r/UIUC/comments/1gudjjx/whats_the_workload_in_phil_104_acp_like/   \n",
       "1               /r/UIUC/comments/1gud92r/physics_211_scheduling_question/   \n",
       "2                    /r/UIUC/comments/1gud6qv/subleasing_spring_semester/   \n",
       "3  /r/UIUC/comments/1gucbbz/illinois_included_in_nine_colleges_with_best/   \n",
       "4        /r/UIUC/comments/1gubzq8/color_appointments_available_this_week/   \n",
       "\n",
       "            created_at  \n",
       "0  2024-11-18T13:42:54  \n",
       "1  2024-11-18T13:30:43  \n",
       "2  2024-11-18T13:28:03  \n",
       "3  2024-11-18T12:53:11  \n",
       "4  2024-11-18T12:40:22  "
      ]
     },
     "execution_count": 55,
     "metadata": {},
     "output_type": "execute_result"
    }
   ],
   "source": [
    "df.head()"
   ]
  }
 ],
 "metadata": {
  "kernelspec": {
   "display_name": "machine-learning",
   "language": "python",
   "name": "python3"
  },
  "language_info": {
   "codemirror_mode": {
    "name": "ipython",
    "version": 3
   },
   "file_extension": ".py",
   "mimetype": "text/x-python",
   "name": "python",
   "nbconvert_exporter": "python",
   "pygments_lexer": "ipython3",
   "version": "3.10.13"
  }
 },
 "nbformat": 4,
 "nbformat_minor": 2
}
