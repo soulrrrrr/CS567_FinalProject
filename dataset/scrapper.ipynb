{
 "cells": [
  {
   "cell_type": "code",
   "execution_count": 2,
   "metadata": {},
   "outputs": [
    {
     "name": "stdout",
     "output_type": "stream",
     "text": [
      "Logged in as: None\n"
     ]
    }
   ],
   "source": [
    "import pandas as pd\n",
    "import praw\n",
    "from datetime import datetime\n",
    "from time import sleep\n",
    "from dotenv import load_dotenv\n",
    "import os\n",
    "\n",
    "load_dotenv()\n",
    "\n",
    "# Authentication details from Reddit Developer Console\n",
    "REDDIT_CLIENT_ID = os.getenv(\"REDDIT_CLIENT_ID\")\n",
    "REDDIT_CLIENT_SECRET = os.getenv(\"REDDIT_CLIENT_SECRET\")\n",
    "REDDIT_USER_AGENT = os.getenv(\"REDDIT_USER_AGENT\")\n",
    "\n",
    "# Initialize PRAW Reddit instance\n",
    "reddit = praw.Reddit(\n",
    "    client_id=REDDIT_CLIENT_ID,\n",
    "    client_secret=REDDIT_CLIENT_SECRET,\n",
    "    user_agent=REDDIT_USER_AGENT\n",
    ")\n",
    "\n",
    "print(f\"Logged in as: {reddit.user.me()}\")  # Verify connection: output should be \"None\" for read-only access"
   ]
  },
  {
   "cell_type": "code",
   "execution_count": 3,
   "metadata": {},
   "outputs": [
    {
     "name": "stdout",
     "output_type": "stream",
     "text": [
      "2024-12-04T09:40:07\n"
     ]
    }
   ],
   "source": [
    "# Testing Purpose\n",
    "for post in reddit.subreddit(\"UIUC\").new(limit=1):\n",
    "    # post.comments.replace_more(limit=0)\n",
    "    # [print(comment.body) for comment in post.comments.list()[:10]]\n",
    "    # print(post.comments.list().body)\n",
    "    print(datetime.fromtimestamp(post.created_utc).isoformat())"
   ]
  },
  {
   "cell_type": "code",
   "execution_count": 4,
   "metadata": {},
   "outputs": [
    {
     "name": "stdout",
     "output_type": "stream",
     "text": [
      "posts saved to uiuc_subreddit_posts.csv\n"
     ]
    }
   ],
   "source": [
    "subreddit_name = \"UIUC\"\n",
    "subreddit = reddit.subreddit(subreddit_name)\n",
    "\n",
    "limit = 100  # Number of posts to scrape\n",
    "posts = []\n",
    "\n",
    "for post in subreddit.new(limit=limit):  # Change 'hot' to 'new', 'top', etc., as needed\n",
    "    post.comments.replace_more(limit=0)\n",
    "\n",
    "    posts.append({\n",
    "        \"title\": post.title,\n",
    "        \"author\": post.author.name if post.author else \"deleted\",\n",
    "        \"upvote\": post.score,\n",
    "        \"body\": post.selftext if post.selftext else \"\",\n",
    "        \"comments\": [\n",
    "            {\n",
    "                \"author\": comment.author.name if comment.author else \"deleted\",\n",
    "                \"body\": comment.body if comment.body else \"\",\n",
    "                \"created_at\": datetime.fromtimestamp(comment.created_utc).isoformat()\n",
    "            } for comment in post.comments.list()],\n",
    "        \"id\": post.name,\n",
    "        \"url\": post.url,\n",
    "        \"permalink\": post.permalink,\n",
    "        \"created_at\": datetime.fromtimestamp(post.created_utc).isoformat(),\n",
    "    })\n",
    "    sleep(1)\n",
    "\n",
    "df = pd.DataFrame(posts)\n",
    "df.to_csv(\"uiuc_subreddit_posts_2.csv\", index=False)\n",
    "print(\"posts saved to uiuc_subreddit_posts.csv\")"
   ]
  },
  {
   "cell_type": "code",
   "execution_count": 10,
   "metadata": {},
   "outputs": [
    {
     "data": {
      "text/plain": [
       "(100, 9)"
      ]
     },
     "execution_count": 10,
     "metadata": {},
     "output_type": "execute_result"
    }
   ],
   "source": [
    "df = pd.read_csv(\"uiuc_subreddit_posts_2.csv\")\n",
    "pd.set_option('display.max_colwidth', None)\n",
    "df.shape"
   ]
  },
  {
   "cell_type": "code",
   "execution_count": 11,
   "metadata": {},
   "outputs": [
    {
     "data": {
      "text/html": [
       "<div>\n",
       "<style scoped>\n",
       "    .dataframe tbody tr th:only-of-type {\n",
       "        vertical-align: middle;\n",
       "    }\n",
       "\n",
       "    .dataframe tbody tr th {\n",
       "        vertical-align: top;\n",
       "    }\n",
       "\n",
       "    .dataframe thead th {\n",
       "        text-align: right;\n",
       "    }\n",
       "</style>\n",
       "<table border=\"1\" class=\"dataframe\">\n",
       "  <thead>\n",
       "    <tr style=\"text-align: right;\">\n",
       "      <th></th>\n",
       "      <th>title</th>\n",
       "      <th>author</th>\n",
       "      <th>upvote</th>\n",
       "      <th>body</th>\n",
       "      <th>comments</th>\n",
       "      <th>id</th>\n",
       "      <th>url</th>\n",
       "      <th>permalink</th>\n",
       "      <th>created_at</th>\n",
       "    </tr>\n",
       "  </thead>\n",
       "  <tbody>\n",
       "    <tr>\n",
       "      <th>0</th>\n",
       "      <td>Looking for roommates for next year</td>\n",
       "      <td>Ok_Board5095</td>\n",
       "      <td>1</td>\n",
       "      <td>Hello! I'm a freshman looking to get an apartment next year. I'm looking at a few places, but they all have 2 or more bedrooms.\\n\\nPlease dm me if you are also looking for a roomate for next year!\\n\\nI'm mainly looking for women, as a women myself, but I'm open to men too.</td>\n",
       "      <td>[]</td>\n",
       "      <td>t3_1h6j0d1</td>\n",
       "      <td>https://www.reddit.com/r/UIUC/comments/1h6j0d1/looking_for_roommates_for_next_year/</td>\n",
       "      <td>/r/UIUC/comments/1h6j0d1/looking_for_roommates_for_next_year/</td>\n",
       "      <td>2024-12-04T09:40:07</td>\n",
       "    </tr>\n",
       "    <tr>\n",
       "      <th>1</th>\n",
       "      <td>Frosted Flakes w/ hot dog for breakfast. Remember, having a good breakfast helps performance in school.</td>\n",
       "      <td>AngusHornfeck</td>\n",
       "      <td>8</td>\n",
       "      <td>NaN</td>\n",
       "      <td>[{'author': 'sjk8990', 'body': 'I think I just witnessed a war crime.', 'created_at': '2024-12-04T09:21:54'}, {'author': 'no-temperature-5932', 'body': \"Tough times won't last forever. Good luck!\", 'created_at': '2024-12-04T09:21:38'}, {'author': 'ItsTheOrangShep', 'body': \"It's weird. And probably disgusting.\\n\\nBut I must respect it.\\n\\nYou are a madlad.\\n\\nTake an upvote.\", 'created_at': '2024-12-04T09:26:29'}, {'author': 'AngusHornfeck', 'body': \"For those of you eating your breakfast now. Here's an article to read while you eat: C:\\\\Users\\\\Angus\\\\Desktop\\\\RESEARCH\\\\2024\\\\November\\\\New folder\\\\UIUCFRAUD.pdf\", 'created_at': '2024-12-04T09:29:54'}, {'author': 'AHMS_17', 'body': 'Type shit', 'created_at': '2024-12-04T09:50:42'}]</td>\n",
       "      <td>t3_1h6ifly</td>\n",
       "      <td>https://i.redd.it/26xg0fj6mu4e1.png</td>\n",
       "      <td>/r/UIUC/comments/1h6ifly/frosted_flakes_w_hot_dog_for_breakfast_remember/</td>\n",
       "      <td>2024-12-04T09:16:32</td>\n",
       "    </tr>\n",
       "    <tr>\n",
       "      <th>2</th>\n",
       "      <td>FREEZINGGGGG 🥶</td>\n",
       "      <td>Initial_Hunt984</td>\n",
       "      <td>1</td>\n",
       "      <td>Is any one else freezing in their dorm??? Like the heating isn’t high enough to warm up the room. Like I have to sleep with double blankets last night. Also housing said they would turn it up when it drops below a certain degree and I’m pretty sure the heat should be blasting by now.(I’m in Taft btw)</td>\n",
       "      <td>[]</td>\n",
       "      <td>t3_1h6hz1q</td>\n",
       "      <td>https://www.reddit.com/r/UIUC/comments/1h6hz1q/freezinggggg/</td>\n",
       "      <td>/r/UIUC/comments/1h6hz1q/freezinggggg/</td>\n",
       "      <td>2024-12-04T08:57:43</td>\n",
       "    </tr>\n",
       "    <tr>\n",
       "      <th>3</th>\n",
       "      <td>Selling Meal Tickets</td>\n",
       "      <td>Financial-Size9431</td>\n",
       "      <td>1</td>\n",
       "      <td>Meal tickets $6 or could arrange a deal if buying a lot. Expiration: end of spring semester. Union pickup</td>\n",
       "      <td>[]</td>\n",
       "      <td>t3_1h6hhgt</td>\n",
       "      <td>https://www.reddit.com/r/UIUC/comments/1h6hhgt/selling_meal_tickets/</td>\n",
       "      <td>/r/UIUC/comments/1h6hhgt/selling_meal_tickets/</td>\n",
       "      <td>2024-12-04T08:36:28</td>\n",
       "    </tr>\n",
       "    <tr>\n",
       "      <th>4</th>\n",
       "      <td>TODAY! Get ready to DANCE! Krannert Center is having their annual Dance Break, and YOU are invited! Join us Wed. 4 Dec. from 12:05 - 12:20pm! Take a break and let some of that end-of-semester stress go! We'll be doin' some movin' in the Krannert Center lobby.</td>\n",
       "      <td>CMI_notes</td>\n",
       "      <td>1</td>\n",
       "      <td>NaN</td>\n",
       "      <td>[]</td>\n",
       "      <td>t3_1h6fvml</td>\n",
       "      <td>https://www.instagram.com/reel/DDH-RcqhU4U/</td>\n",
       "      <td>/r/UIUC/comments/1h6fvml/today_get_ready_to_dance_krannert_center_is/</td>\n",
       "      <td>2024-12-04T07:23:32</td>\n",
       "    </tr>\n",
       "  </tbody>\n",
       "</table>\n",
       "</div>"
      ],
      "text/plain": [
       "                                                                                                                                                                                                                                                                 title  \\\n",
       "0                                                                                                                                                                                                                                  Looking for roommates for next year   \n",
       "1                                                                                                                                                              Frosted Flakes w/ hot dog for breakfast. Remember, having a good breakfast helps performance in school.   \n",
       "2                                                                                                                                                                                                                                                       FREEZINGGGGG 🥶   \n",
       "3                                                                                                                                                                                                                                                 Selling Meal Tickets   \n",
       "4  TODAY! Get ready to DANCE! Krannert Center is having their annual Dance Break, and YOU are invited! Join us Wed. 4 Dec. from 12:05 - 12:20pm! Take a break and let some of that end-of-semester stress go! We'll be doin' some movin' in the Krannert Center lobby.   \n",
       "\n",
       "               author  upvote  \\\n",
       "0        Ok_Board5095       1   \n",
       "1       AngusHornfeck       8   \n",
       "2     Initial_Hunt984       1   \n",
       "3  Financial-Size9431       1   \n",
       "4           CMI_notes       1   \n",
       "\n",
       "                                                                                                                                                                                                                                                                                                            body  \\\n",
       "0                              Hello! I'm a freshman looking to get an apartment next year. I'm looking at a few places, but they all have 2 or more bedrooms.\\n\\nPlease dm me if you are also looking for a roomate for next year!\\n\\nI'm mainly looking for women, as a women myself, but I'm open to men too.   \n",
       "1                                                                                                                                                                                                                                                                                                            NaN   \n",
       "2  Is any one else freezing in their dorm??? Like the heating isn’t high enough to warm up the room. Like I have to sleep with double blankets last night. Also housing said they would turn it up when it drops below a certain degree and I’m pretty sure the heat should be blasting by now.(I’m in Taft btw)   \n",
       "3                                                                                                                                                                                                      Meal tickets $6 or could arrange a deal if buying a lot. Expiration: end of spring semester. Union pickup   \n",
       "4                                                                                                                                                                                                                                                                                                            NaN   \n",
       "\n",
       "                                                                                                                                                                                                                                                                                                                                                                                                                                                                                                                                                                                                                                                                                                                                                              comments  \\\n",
       "0                                                                                                                                                                                                                                                                                                                                                                                                                                                                                                                                                                                                                                                                                                                                                                   []   \n",
       "1  [{'author': 'sjk8990', 'body': 'I think I just witnessed a war crime.', 'created_at': '2024-12-04T09:21:54'}, {'author': 'no-temperature-5932', 'body': \"Tough times won't last forever. Good luck!\", 'created_at': '2024-12-04T09:21:38'}, {'author': 'ItsTheOrangShep', 'body': \"It's weird. And probably disgusting.\\n\\nBut I must respect it.\\n\\nYou are a madlad.\\n\\nTake an upvote.\", 'created_at': '2024-12-04T09:26:29'}, {'author': 'AngusHornfeck', 'body': \"For those of you eating your breakfast now. Here's an article to read while you eat: C:\\\\Users\\\\Angus\\\\Desktop\\\\RESEARCH\\\\2024\\\\November\\\\New folder\\\\UIUCFRAUD.pdf\", 'created_at': '2024-12-04T09:29:54'}, {'author': 'AHMS_17', 'body': 'Type shit', 'created_at': '2024-12-04T09:50:42'}]   \n",
       "2                                                                                                                                                                                                                                                                                                                                                                                                                                                                                                                                                                                                                                                                                                                                                                   []   \n",
       "3                                                                                                                                                                                                                                                                                                                                                                                                                                                                                                                                                                                                                                                                                                                                                                   []   \n",
       "4                                                                                                                                                                                                                                                                                                                                                                                                                                                                                                                                                                                                                                                                                                                                                                   []   \n",
       "\n",
       "           id  \\\n",
       "0  t3_1h6j0d1   \n",
       "1  t3_1h6ifly   \n",
       "2  t3_1h6hz1q   \n",
       "3  t3_1h6hhgt   \n",
       "4  t3_1h6fvml   \n",
       "\n",
       "                                                                                   url  \\\n",
       "0  https://www.reddit.com/r/UIUC/comments/1h6j0d1/looking_for_roommates_for_next_year/   \n",
       "1                                                  https://i.redd.it/26xg0fj6mu4e1.png   \n",
       "2                         https://www.reddit.com/r/UIUC/comments/1h6hz1q/freezinggggg/   \n",
       "3                 https://www.reddit.com/r/UIUC/comments/1h6hhgt/selling_meal_tickets/   \n",
       "4                                          https://www.instagram.com/reel/DDH-RcqhU4U/   \n",
       "\n",
       "                                                                   permalink  \\\n",
       "0              /r/UIUC/comments/1h6j0d1/looking_for_roommates_for_next_year/   \n",
       "1  /r/UIUC/comments/1h6ifly/frosted_flakes_w_hot_dog_for_breakfast_remember/   \n",
       "2                                     /r/UIUC/comments/1h6hz1q/freezinggggg/   \n",
       "3                             /r/UIUC/comments/1h6hhgt/selling_meal_tickets/   \n",
       "4      /r/UIUC/comments/1h6fvml/today_get_ready_to_dance_krannert_center_is/   \n",
       "\n",
       "            created_at  \n",
       "0  2024-12-04T09:40:07  \n",
       "1  2024-12-04T09:16:32  \n",
       "2  2024-12-04T08:57:43  \n",
       "3  2024-12-04T08:36:28  \n",
       "4  2024-12-04T07:23:32  "
      ]
     },
     "execution_count": 11,
     "metadata": {},
     "output_type": "execute_result"
    }
   ],
   "source": [
    "df.head()"
   ]
  },
  {
   "cell_type": "code",
   "execution_count": null,
   "metadata": {},
   "outputs": [],
   "source": []
  }
 ],
 "metadata": {
  "kernelspec": {
   "display_name": "machine-learning",
   "language": "python",
   "name": "python3"
  },
  "language_info": {
   "codemirror_mode": {
    "name": "ipython",
    "version": 3
   },
   "file_extension": ".py",
   "mimetype": "text/x-python",
   "name": "python",
   "nbconvert_exporter": "python",
   "pygments_lexer": "ipython3",
   "version": "3.10.13"
  }
 },
 "nbformat": 4,
 "nbformat_minor": 2
}
