{
 "cells": [
  {
   "cell_type": "code",
   "execution_count": 1,
   "metadata": {},
   "outputs": [],
   "source": [
    "import pandas as pd\n",
    "import json\n",
    "from pymongo import MongoClient\n",
    "import ast\n",
    "from dotenv import load_dotenv\n",
    "import os"
   ]
  },
  {
   "cell_type": "code",
   "execution_count": 7,
   "metadata": {},
   "outputs": [],
   "source": [
    "df = pd.read_csv(\"uiuc_subreddit_posts.csv\")\n",
    "df.fillna(\"\", inplace=True)\n",
    "\n",
    "# Convert stringified JSON back to list of dicts for the 'comments' column\n",
    "if 'comments' in df.columns:\n",
    "    df['comments'] = df['comments'].apply(lambda x: ast.literal_eval(x) if isinstance(x, str) and x.startswith(\"[\") else x)\n",
    "\n",
    "# Convert DataFrame to a list of dictionaries\n",
    "data = df.to_dict(orient=\"records\")"
   ]
  },
  {
   "cell_type": "code",
   "execution_count": 2,
   "metadata": {},
   "outputs": [],
   "source": [
    "load_dotenv()\n",
    "mongo_uri = os.getenv(\"mongo_uri\")\n",
    "client = MongoClient(mongo_uri)\n",
    "db = client[\"project-cluster\"]"
   ]
  },
  {
   "cell_type": "code",
   "execution_count": null,
   "metadata": {},
   "outputs": [],
   "source": [
    "collection = db[\"reddit-posts\"] # Collection name\n",
    "\n",
    "result = collection.insert_many(data)\n",
    "print(f\"Inserted {len(result.inserted_ids)} documents into MongoDB.\")"
   ]
  },
  {
   "cell_type": "code",
   "execution_count": 4,
   "metadata": {},
   "outputs": [
    {
     "name": "stdout",
     "output_type": "stream",
     "text": [
      "Inserted 7 policies into the database.\n"
     ]
    }
   ],
   "source": [
    "collection = db[\"uiuc-policy\"] # Collection name\n",
    "\n",
    "with open('uiuc_policy.json', 'r') as file:\n",
    "    policies = json.load(file)\n",
    "\n",
    "result = collection.insert_many(policies)\n",
    "print(f\"Inserted {len(result.inserted_ids)} policies into the database.\")"
   ]
  },
  {
   "cell_type": "code",
   "execution_count": null,
   "metadata": {},
   "outputs": [],
   "source": []
  }
 ],
 "metadata": {
  "kernelspec": {
   "display_name": "machine-learning",
   "language": "python",
   "name": "python3"
  },
  "language_info": {
   "codemirror_mode": {
    "name": "ipython",
    "version": 3
   },
   "file_extension": ".py",
   "mimetype": "text/x-python",
   "name": "python",
   "nbconvert_exporter": "python",
   "pygments_lexer": "ipython3",
   "version": "3.10.13"
  }
 },
 "nbformat": 4,
 "nbformat_minor": 2
}
